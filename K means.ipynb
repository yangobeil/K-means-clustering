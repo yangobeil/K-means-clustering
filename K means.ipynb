{
 "cells": [
  {
   "cell_type": "markdown",
   "metadata": {},
   "source": [
    "# K means clustering algorithm"
   ]
  },
  {
   "cell_type": "markdown",
   "metadata": {},
   "source": [
    "In this notebook we implement from scratch the popular clustering algorithm K-means. The goal is to take a bunch of points and group them in clusters in such a way that points in clusters are close to each other. The only parameter of the algorithm is the number of clusters K and the result that we want to obtain is a set of K centroids, points that represent the center of the clusters, and data about which point is associated to which centroid. The algorithm is actually very simple. It can be schematically summarized as follows:\n",
    "1. Randomly initialize the K centroids.\n",
    "2. Assign each point to the centroid that is closest to it.\n",
    "3. Update the centroids to the average of the points that are associated to each of them.\n",
    "4. Repeat 2 and 3 until nothing changes\n",
    "\n",
    "The idea is simple but implementing it efficiently is harder than it sounds so we will need to be very careful. We could just use loops to go over points and clusters but it is not too efficient so we must introduce matrices. Here is the basic notation that we use:\n",
    "- num_points (m) = number of points (number of training examples)\n",
    "- dim (n) = dimension of the space (number of features)\n",
    "- num_clusters (K) = number of clusters\n",
    "\n",
    "The ingredients that we use are all arrays of different dimensions:\n",
    "- data (X) = (m,n) dimensional matrix where each row is one of the points $x^{(i)}$.\n",
    "- centroids ($\\mu$) = (K,n) dimensional matrix whre each row is the position of one of the centroids.\n",
    "- positions (R) = (K,m) dimensional matrix where each column represents a point and is full of zeros except for a one at the row of its associated cluster."
   ]
  },
  {
   "cell_type": "markdown",
   "metadata": {},
   "source": [
    "# Coding the algorithm"
   ]
  },
  {
   "cell_type": "code",
   "execution_count": 179,
   "metadata": {},
   "outputs": [],
   "source": [
    "import numpy as np\n",
    "\n",
    "import sklearn\n",
    "from sklearn.cluster import KMeans\n",
    "\n",
    "from sklearn.datasets.samples_generator import make_blobs\n",
    "from time import time\n",
    "import random"
   ]
  },
  {
   "cell_type": "markdown",
   "metadata": {},
   "source": [
    "The first step is initializing randomly the centroids. To make sure that the centroids fall on the right region we compute the maximum and the minimum of the data in each direction and generate random numbers in these intervals to make the centroids."
   ]
  },
  {
   "cell_type": "code",
   "execution_count": 180,
   "metadata": {},
   "outputs": [],
   "source": [
    "def initialize_centroids(data, num_centroids):\n",
    "    \n",
    "    dim = data.shape[1]\n",
    "    \n",
    "    mins = np.min(data, axis=0)\n",
    "    maxs = np.max(data, axis=0)\n",
    "    mu = np.random.uniform(mins, maxs, size=(num_centroids, dim))\n",
    "    \n",
    "    return mu"
   ]
  },
  {
   "cell_type": "markdown",
   "metadata": {},
   "source": [
    "Now we want to associate each point to a cluster. There is no way to do that step fully using matrices so we iterate over the points. For each point we use python's broadcasting features to compute the distances with centroids and we find for which one it is the smallest. The array 'distances' (for each row in X, or equivalently each point $x^{(i)}$) is built by first making a matrix that contains in each row the vector $x^{(i)}-\\mu_k$ (k labels the rows). We then compute the norm of each of these vectors to obtain the $(K,1)$ vector 'distances' and the minimum of these distances tells us where to put the 1 in the column of R associated to the point $i$."
   ]
  },
  {
   "cell_type": "code",
   "execution_count": 181,
   "metadata": {},
   "outputs": [],
   "source": [
    "def point_assignment(data, centroids):\n",
    "    \n",
    "    num_points = data.shape[0]\n",
    "    num_centroids = centroids.shape[0]\n",
    "    positions = np.zeros((num_centroids, num_points))\n",
    "    \n",
    "    for i in range(num_points):\n",
    "        distances = np.linalg.norm(data[i]-centroids, axis=1)\n",
    "        positions[np.argmin(distances),i] = 1\n",
    "        \n",
    "    return positions"
   ]
  },
  {
   "cell_type": "markdown",
   "metadata": {},
   "source": [
    "This function is the one that updates the centroids according to the mean of the points that are asociated with them. Using the fact that the matrix elements $R_{ki}$ are non zero only when point $i$ is associated to cluster $k$ the mean for a single cluster can be computed using\n",
    "$$ \\mu_k = \\frac{\\sum_{i=1}^m R_{ki}x^{(i)}}{\\sum_{i=1}^m R_{ki}} .$$\n",
    "The denominator is just the number of points associated to the centroid. It is possible to put this into matrix form to update directly the full matrix $\\mu$. The expression for the numerator is simply\n",
    "$$ \\mu = R X $$\n",
    "where we use the usual matrix multiplication. The denominator is obtained from the matrix $R$ by summing its rows and the division is done using broadcasting. There is one subtlety to take care of since there could be no points associated to a cluster, in which case we divide by zero. To avoid reducing the number of clusters this way we just reposition the centroid to a random position when it happens."
   ]
  },
  {
   "cell_type": "code",
   "execution_count": 182,
   "metadata": {},
   "outputs": [],
   "source": [
    "def update_centroids(data, positions, num_centroids):\n",
    "    \n",
    "    centroids = np.matmul(positions, data)/(positions.sum(1).reshape(num_centroids,1))\n",
    "    centroids[centroids==np.inf] = np.nan\n",
    "    \n",
    "    random_centroids = initialize_centroids(data, num_centroids)\n",
    "    \n",
    "    centroids = np.nan_to_num(centroids) + np.multiply(np.isnan(centroids), random_centroids)\n",
    "        \n",
    "    return centroids"
   ]
  },
  {
   "cell_type": "markdown",
   "metadata": {},
   "source": [
    "It turns out that this algorithm is made to minimize a simple cost function. This cost function is the sum of the distances from each point to its associated cluster. In terms of individual points and centroid the cost can be calculated using\n",
    "$$ cost = \\sum_{k=1}^K\\sum_{i=1}^m R_{ki}(x^{(i)}-\\mu_k)^2 $$\n",
    "where the square means the norm of the vector. In terms of matrices we can compute\n",
    "$$ X - R^T \\mu $$\n",
    "whose rows are points minus their associated centroid. We then just have to take the norm of each row and add the rows, which is the same as taking the Frobenius norm."
   ]
  },
  {
   "cell_type": "code",
   "execution_count": 183,
   "metadata": {},
   "outputs": [],
   "source": [
    "def calculate_cost(data, positions, centroids):\n",
    "    cost = np.linalg.norm(data - np.matmul(positions.T, centroids))\n",
    "    \n",
    "    return cost"
   ]
  },
  {
   "cell_type": "markdown",
   "metadata": {},
   "source": [
    "Putting the positions in matrix form is useful for computations but it is hard to visualize so we make a function to transform it into a $(m,1)$ vector that indicates by a number to which centroid each point belongs."
   ]
  },
  {
   "cell_type": "code",
   "execution_count": 184,
   "metadata": {},
   "outputs": [],
   "source": [
    "def convert_positions(positions):\n",
    "    return np.argmax(positions, axis=0)"
   ]
  },
  {
   "cell_type": "markdown",
   "metadata": {},
   "source": [
    "Now we can put everything together. We first randomly initialize the centroids. The core of the algorithm is to compute the positions of the points and then update the centroids and these wo steps are repeated until the algorithm finishes. We also compute the cost at every step and use the condition that the cost stays the same to end the computation. We finally convert the last 'positions' matrix to a nice form and give it as the output."
   ]
  },
  {
   "cell_type": "code",
   "execution_count": 185,
   "metadata": {},
   "outputs": [],
   "source": [
    "def k_means(data, num_centroids):\n",
    "    \n",
    "    centroids = initialize_centroids(data, num_centroids)\n",
    "    cost = []\n",
    "    i=0\n",
    "    \n",
    "    while True:\n",
    "        print(i, end='\\r')\n",
    "        positions = point_assignment(data, centroids)\n",
    "        centroids = update_centroids(data, positions, num_centroids)\n",
    "        cost.append(calculate_cost(data, positions, centroids))\n",
    "        print(cost[i], end='\\r')\n",
    "        if i!=0:\n",
    "            if cost[i]==cost[i-1]:\n",
    "                break\n",
    "        i += 1\n",
    "    \n",
    "    return convert_positions(positions)"
   ]
  },
  {
   "cell_type": "code",
   "execution_count": 186,
   "metadata": {},
   "outputs": [],
   "source": [
    "# Generate random Gaussian data to check if everything works fine\n",
    "\n",
    "data = np.random.randn(50, 5)"
   ]
  },
  {
   "cell_type": "code",
   "execution_count": 187,
   "metadata": {},
   "outputs": [
    {
     "name": "stdout",
     "output_type": "stream",
     "text": [
      "0\r",
      "13.767726079448416\r",
      "1\r",
      "13.72238276267233\r",
      "2\r",
      "13.65216584249277\r",
      "3\r",
      "13.65216584249277\r"
     ]
    },
    {
     "data": {
      "text/plain": [
       "array([3, 1, 3, 2, 2, 2, 1, 1, 3, 2, 0, 2, 2, 2, 2, 3, 3, 3, 0, 2, 0, 3,\n",
       "       3, 2, 2, 0, 3, 2, 3, 3, 3, 0, 2, 0, 0, 0, 3, 3, 2, 0, 2, 0, 3, 2,\n",
       "       3, 2, 0, 2, 0, 2], dtype=int64)"
      ]
     },
     "execution_count": 187,
     "metadata": {},
     "output_type": "execute_result"
    }
   ],
   "source": [
    "# Run the algorithm on the random data and it looks like it gives a reasonable result\n",
    "\n",
    "k_means(data, 4)"
   ]
  },
  {
   "cell_type": "markdown",
   "metadata": {},
   "source": [
    "# Check against sklearn"
   ]
  },
  {
   "cell_type": "markdown",
   "metadata": {},
   "source": [
    "Now that we have our home made algorithm we would like to compare with the professional one from sklearn. We first generate data into four blobs with random centers and standard deviations in order to have something to expect."
   ]
  },
  {
   "cell_type": "code",
   "execution_count": 198,
   "metadata": {},
   "outputs": [
    {
     "data": {
      "text/plain": [
       "array([0, 3, 2, 2, 3, 2, 2, 1, 0, 3, 3, 0, 3, 3, 1, 2, 0, 3, 2, 3, 3, 1,\n",
       "       0, 2, 2, 1, 0, 0, 2, 0, 1, 2, 0, 2, 1, 2, 2, 2, 3, 1, 1, 0, 2, 1,\n",
       "       2, 0, 1, 0, 0, 1, 3, 2, 3, 0, 3, 1, 2, 0, 1, 1, 3, 3, 2, 2, 3, 1,\n",
       "       3, 0, 3, 2, 2, 3, 1, 0, 1, 2, 3, 0, 1, 1, 2, 1, 3, 0, 0, 0, 0, 1,\n",
       "       0, 3, 0, 1, 1, 2, 3, 3, 1, 0, 3, 1])"
      ]
     },
     "execution_count": 198,
     "metadata": {},
     "output_type": "execute_result"
    }
   ],
   "source": [
    "centers = [(random.randint(0,9), random.randint(0,9)) for i in range(4)]\n",
    "cluster_std = [random.uniform(0,2) for i in range(4)]\n",
    "\n",
    "X, y = make_blobs(n_samples=100, cluster_std=cluster_std, centers=centers, n_features=2, random_state=1)\n",
    "y"
   ]
  },
  {
   "cell_type": "markdown",
   "metadata": {},
   "source": [
    "We then run sklearn's KMeans to predict clusters for this data. We also time to compare the performance."
   ]
  },
  {
   "cell_type": "code",
   "execution_count": 199,
   "metadata": {},
   "outputs": [
    {
     "name": "stdout",
     "output_type": "stream",
     "text": [
      "Algorithm ran in  0.015633821487426758  seconds\n"
     ]
    },
    {
     "data": {
      "text/plain": [
       "array([1, 1, 2, 2, 1, 2, 3, 2, 1, 1, 1, 1, 1, 1, 2, 0, 1, 1, 0, 1, 1, 2,\n",
       "       1, 0, 0, 2, 1, 1, 3, 1, 2, 3, 1, 2, 2, 2, 2, 2, 1, 2, 2, 1, 3, 2,\n",
       "       0, 1, 2, 1, 1, 2, 1, 0, 1, 1, 1, 2, 3, 1, 2, 2, 1, 1, 0, 0, 1, 2,\n",
       "       1, 1, 1, 3, 3, 1, 2, 1, 2, 3, 1, 1, 2, 2, 0, 2, 1, 1, 1, 1, 1, 2,\n",
       "       1, 1, 1, 2, 2, 2, 1, 1, 2, 1, 1, 2])"
      ]
     },
     "execution_count": 199,
     "metadata": {},
     "output_type": "execute_result"
    }
   ],
   "source": [
    "model = KMeans(n_clusters=4)\n",
    "\n",
    "t0 = time()\n",
    "model.fit(X)\n",
    "t1 = time()\n",
    "print('Algorithm ran in ', t1-t0, ' seconds')\n",
    "\n",
    "y_sklearn = model.predict(X)\n",
    "y_sklearn"
   ]
  },
  {
   "cell_type": "markdown",
   "metadata": {},
   "source": [
    "We now run our algorithm for the ame data and predict labels. The run time seems to be pretty similar to the pro one so it is nice!"
   ]
  },
  {
   "cell_type": "code",
   "execution_count": 200,
   "metadata": {},
   "outputs": [
    {
     "name": "stdout",
     "output_type": "stream",
     "text": [
      "0\r",
      "10.572060468451346\r",
      "1\r",
      "8.542950480408201\r",
      "2\r",
      "8.518951054459379\r",
      "3\r",
      "8.513849946423601\r",
      "4\r",
      "8.513849946423601\r",
      "Algorithm ran in  0.022130250930786133  seconds\n"
     ]
    },
    {
     "data": {
      "text/plain": [
       "array([2, 2, 1, 1, 2, 1, 3, 1, 2, 2, 2, 2, 2, 2, 0, 3, 2, 2, 1, 2, 2, 0,\n",
       "       2, 1, 3, 1, 2, 2, 3, 2, 0, 3, 2, 0, 0, 1, 1, 1, 2, 0, 0, 2, 3, 0,\n",
       "       3, 2, 1, 2, 2, 1, 2, 3, 2, 2, 2, 0, 3, 2, 1, 0, 2, 2, 1, 3, 2, 1,\n",
       "       2, 2, 2, 3, 3, 2, 0, 2, 1, 3, 2, 2, 0, 0, 1, 0, 2, 2, 2, 2, 2, 0,\n",
       "       2, 2, 2, 0, 0, 0, 2, 2, 1, 2, 2, 0], dtype=int64)"
      ]
     },
     "execution_count": 200,
     "metadata": {},
     "output_type": "execute_result"
    }
   ],
   "source": [
    "t0 = time()\n",
    "y_me = k_means(X, 4)\n",
    "t1 = time()\n",
    "print('Algorithm ran in ', t1-t0, ' seconds')\n",
    "y_me"
   ]
  },
  {
   "cell_type": "markdown",
   "metadata": {},
   "source": [
    "We now plot the three results next to each other to compare. It looks like our version gives very similar results to the one from sklearn. We have managed to make a good version of k-means clustering! There are however instances where the clusters that we obtain are not the same ones and they vary when we rerun the code so there must be some instability with respect to the random initialization that is not there in the sklearn implementation."
   ]
  },
  {
   "cell_type": "code",
   "execution_count": 201,
   "metadata": {},
   "outputs": [
    {
     "data": {
      "text/plain": [
       "<matplotlib.collections.PathCollection at 0x1e12ecf6940>"
      ]
     },
     "execution_count": 201,
     "metadata": {},
     "output_type": "execute_result"
    },
    {
     "data": {
      "image/png": "[encoded data removed]",
      "text/plain": [
       "<Figure size 1440x360 with 3 Axes>"
      ]
     },
     "metadata": {
      "needs_background": "light"
     },
     "output_type": "display_data"
    }
   ],
   "source": [
    "f, (ax1,ax2,ax3) = plt.subplots(1, 3, figsize=(20,5))\n",
    "\n",
    "# Plot for real data\n",
    "ax1.set_title('Real data')\n",
    "ax1.scatter(X[y == 0, 0], X[y == 0, 1], color=\"red\", s=10, label=\"Cluster1\")\n",
    "ax1.scatter(X[y == 1, 0], X[y == 1, 1], color=\"blue\", s=10, label=\"Cluster2\")\n",
    "ax1.scatter(X[y == 2, 0], X[y == 2, 1], color=\"yellow\", s=10, label=\"Cluster3\")\n",
    "ax1.scatter(X[y == 3, 0], X[y == 3, 1], color=\"orange\", s=10, label=\"Cluster4\")\n",
    "\n",
    "# Plot for clusters in sklearn\n",
    "ax2.set_title('Sklearn')\n",
    "ax2.scatter(X[y_sklearn == 0, 0], X[y_sklearn == 0, 1], color=\"red\", s=10, label=\"Cluster1\")\n",
    "ax2.scatter(X[y_sklearn == 1, 0], X[y_sklearn == 1, 1], color=\"blue\", s=10, label=\"Cluster2\")\n",
    "ax2.scatter(X[y_sklearn == 2, 0], X[y_sklearn == 2, 1], color=\"yellow\", s=10, label=\"Cluster3\")\n",
    "ax2.scatter(X[y_sklearn == 3, 0], X[y_sklearn == 3, 1], color=\"orange\", s=10, label=\"Cluster4\")\n",
    "\n",
    "# Plot for home made algorithm\n",
    "ax3.set_title('Home made implementation')\n",
    "ax3.scatter(X[y_me == 0, 0], X[y_me == 0, 1], color=\"red\", s=10, label=\"Cluster1\")\n",
    "ax3.scatter(X[y_me == 1, 0], X[y_me == 1, 1], color=\"blue\", s=10, label=\"Cluster2\")\n",
    "ax3.scatter(X[y_me == 2, 0], X[y_me == 2, 1], color=\"yellow\", s=10, label=\"Cluster3\")\n",
    "ax3.scatter(X[y_me == 3, 0], X[y_me == 3, 1], color=\"orange\", s=10, label=\"Cluster4\")"
   ]
  },
  {
   "cell_type": "code",
   "execution_count": null,
   "metadata": {},
   "outputs": [],
   "source": []
  }
 ],
 "metadata": {
  "kernelspec": {
   "display_name": "Python 3",
   "language": "python",
   "name": "python3"
  },
  "language_info": {
   "codemirror_mode": {
    "name": "ipython",
    "version": 3
   },
   "file_extension": ".py",
   "mimetype": "text/x-python",
   "name": "python",
   "nbconvert_exporter": "python",
   "pygments_lexer": "ipython3",
   "version": "3.6.8"
  }
 },
 "nbformat": 4,
 "nbformat_minor": 2
}
